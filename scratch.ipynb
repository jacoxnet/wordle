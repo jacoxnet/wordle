{
 "cells": [
  {
   "cell_type": "code",
   "execution_count": 1,
   "metadata": {},
   "outputs": [
    {
     "name": "stdout",
     "output_type": "stream",
     "text": [
      "read  10657  words\n",
      "read  2315  solutions\n"
     ]
    }
   ],
   "source": [
    "from wordlists.listofwords import SOLUTIONS, ALLWORDS\n",
    "print(\"read \", len(ALLWORDS), \" words\")\n",
    "print(\"read \", len(SOLUTIONS), \" solutions\")"
   ]
  },
  {
   "cell_type": "code",
   "execution_count": 2,
   "metadata": {},
   "outputs": [
    {
     "name": "stdout",
     "output_type": "stream",
     "text": [
      "read a total of 39933 words\n",
      "list[333] is chair 40764005 and list[55] is posts 216822128\n"
     ]
    }
   ],
   "source": [
    "import csv\n",
    "wordlist = {}\n",
    "with open(\"wordlists/unigram_freq.csv\", \"r\") as unigram:\n",
    "    dreader = csv.DictReader(unigram)\n",
    "    for row in dreader:\n",
    "        if len(row[\"word\"]) == 5:\n",
    "            wordlist[row[\"word\"]] = row[\"count\"]\n",
    "print(f\"read a total of {len(wordlist)} words\")\n",
    "print(f\"list[333] is {list(wordlist.keys())[333]} {list(wordlist.values())[333]} and list[55] is {list(wordlist.keys())[55]} {list(wordlist.values())[55]}\")"
   ]
  },
  {
   "cell_type": "code",
   "execution_count": 3,
   "metadata": {},
   "outputs": [
    {
     "name": "stdout",
     "output_type": "stream",
     "text": [
      "read a total of 14714 words\n",
      "list[333] is aleye 0 and list[55] is abore 0\n"
     ]
    }
   ],
   "source": [
    "import csv\n",
    "wordlist2 = {}\n",
    "with open(\"wordlists/RIDYHEWordList.csv\", \"r\") as ridyhew:\n",
    "    dreader = csv.DictReader(ridyhew)\n",
    "    for row in dreader:\n",
    "        if len(row[\"Word\"]) == 5:\n",
    "            wordlist2[row[\"Word\"]] = 0\n",
    "print(f\"read a total of {len(wordlist2)} words\")\n",
    "print(f\"list[333] is {list(wordlist2.keys())[333]} {list(wordlist2.values())[333]} and list[55] is {list(wordlist2.keys())[55]} {list(wordlist2.values())[55]}\")"
   ]
  },
  {
   "cell_type": "code",
   "execution_count": 10,
   "metadata": {},
   "outputs": [
    {
     "name": "stdout",
     "output_type": "stream",
     "text": [
      "start\n",
      "frank in original, unigram, ridy True True True\n",
      "done\n"
     ]
    }
   ],
   "source": [
    "print(\"start\")\n",
    "input_word = input(\"test for words\")\n",
    "if input_word != \"\":\n",
    "    print(f\"{input_word} in original, unigram, ridy {input_word in ALLWORDS+SOLUTIONS} {input_word in wordlist} {input_word in wordlist2}\")\n",
    "print (\"done\")"
   ]
  }
 ],
 "metadata": {
  "kernelspec": {
   "display_name": "Python 3",
   "language": "python",
   "name": "python3"
  },
  "language_info": {
   "codemirror_mode": {
    "name": "ipython",
    "version": 3
   },
   "file_extension": ".py",
   "mimetype": "text/x-python",
   "name": "python",
   "nbconvert_exporter": "python",
   "pygments_lexer": "ipython3",
   "version": "3.13.1"
  }
 },
 "nbformat": 4,
 "nbformat_minor": 2
}
